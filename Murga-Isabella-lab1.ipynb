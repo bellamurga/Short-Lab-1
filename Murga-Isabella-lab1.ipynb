{
 "cells": [
  {
   "cell_type": "markdown",
   "metadata": {},
   "source": [
    "## Short Lab 1\n",
    "\n",
    "183406\n",
    "\n",
    "Murga\n",
    "\n",
    "3 BS COMTECH"
   ]
  },
  {
   "cell_type": "markdown",
   "metadata": {},
   "source": [
    "### Problem 1"
   ]
  },
  {
   "cell_type": "code",
   "execution_count": 79,
   "metadata": {},
   "outputs": [
    {
     "name": "stdout",
     "output_type": "stream",
     "text": [
      "Enter the amount in US Dollars: 1\n",
      "1 US dollar(s) = 50 Philippine Pesos.\n"
     ]
    }
   ],
   "source": [
    "def dollars_to_pesos(dollars):\n",
    "    pesos = dollars * 50\n",
    "    return pesos\n",
    "\n",
    "dollars = int(input(\"Enter the amount in US Dollars: \"))\n",
    "\n",
    "pesos = dollars_to_pesos(dollars)\n",
    "\n",
    "print(dollars, \"US dollar(s) =\", pesos, \"Philippine Pesos.\")"
   ]
  },
  {
   "cell_type": "markdown",
   "metadata": {},
   "source": [
    "### Problem 2"
   ]
  },
  {
   "cell_type": "code",
   "execution_count": 77,
   "metadata": {},
   "outputs": [
    {
     "name": "stdout",
     "output_type": "stream",
     "text": [
      "First positive integer: 55\n",
      "Second positive integer: 3\n",
      "58\n",
      "52\n",
      "165\n",
      "18\n",
      "1\n"
     ]
    }
   ],
   "source": [
    "def add(a,b):\n",
    "    sum = a + b\n",
    "    return sum\n",
    "\n",
    "a = int(input(\"First positive integer: \"))\n",
    "b = int(input(\"Second positive integer: \"))\n",
    "\n",
    "def subtract(a,b):\n",
    "    difference = a - b\n",
    "    return difference\n",
    "\n",
    "def multiply(a,b):\n",
    "    product = a * b\n",
    "    return product\n",
    "\n",
    "def divide(a,b):\n",
    "    quotient = a // b\n",
    "    return quotient\n",
    "\n",
    "def modulo(a,b):\n",
    "    remainder = a % b\n",
    "    return remainder\n",
    "\n",
    "if a > 0 and b > 0:\n",
    "    sum = add(a,b)\n",
    "    print(sum)\n",
    "    difference = subtract(a,b)\n",
    "    print(difference)\n",
    "    product = multiply(a,b)\n",
    "    print(product)\n",
    "    quotient = divide(a,b)\n",
    "    print(quotient)\n",
    "    remainder = modulo(a,b)\n",
    "    print(remainder)\n",
    "\n",
    "else:\n",
    "    print(\"Please enter positive integers only.\")"
   ]
  },
  {
   "cell_type": "markdown",
   "metadata": {},
   "source": [
    "### Problem 3"
   ]
  },
  {
   "cell_type": "code",
   "execution_count": 74,
   "metadata": {},
   "outputs": [
    {
     "name": "stdout",
     "output_type": "stream",
     "text": [
      "Enter kg: 65\n",
      "Enter cm: 180\n",
      "BMI: 20.061728395061728\n"
     ]
    }
   ],
   "source": [
    "def convert_cm_to_m(cm):\n",
    "    m = cm / 100\n",
    "    return m\n",
    "\n",
    "kg = float(input(\"Enter kg: \"))\n",
    "cm = float(input(\"Enter cm: \"))\n",
    "\n",
    "m = convert_cm_to_m(cm)\n",
    "\n",
    "def compute_bmi(kg,m):\n",
    "    bmi = kg / (m * m)\n",
    "    return bmi\n",
    "\n",
    "bmi = compute_bmi(kg,m)\n",
    "print(\"BMI:\", bmi)\n"
   ]
  }
 ],
 "metadata": {
  "kernelspec": {
   "display_name": "Python 3",
   "language": "python",
   "name": "python3"
  },
  "language_info": {
   "codemirror_mode": {
    "name": "ipython",
    "version": 3
   },
   "file_extension": ".py",
   "mimetype": "text/x-python",
   "name": "python",
   "nbconvert_exporter": "python",
   "pygments_lexer": "ipython3",
   "version": "3.8.5"
  }
 },
 "nbformat": 4,
 "nbformat_minor": 4
}
